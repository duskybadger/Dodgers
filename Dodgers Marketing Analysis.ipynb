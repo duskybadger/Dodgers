{
 "cells": [
  {
   "cell_type": "code",
   "execution_count": 2,
   "metadata": {},
   "outputs": [],
   "source": [
    "import pandas as pd\n",
    "import seaborn as sns\n",
    "import scipy\n",
    "import matplotlib.pyplot as plt"
   ]
  },
  {
   "cell_type": "code",
   "execution_count": 3,
   "metadata": {},
   "outputs": [],
   "source": [
    "df_Dodgers = pd.read_csv('dodgers.csv')"
   ]
  },
  {
   "cell_type": "code",
   "execution_count": 4,
   "metadata": {},
   "outputs": [
    {
     "data": {
      "text/html": [
       "<div>\n",
       "<style scoped>\n",
       "    .dataframe tbody tr th:only-of-type {\n",
       "        vertical-align: middle;\n",
       "    }\n",
       "\n",
       "    .dataframe tbody tr th {\n",
       "        vertical-align: top;\n",
       "    }\n",
       "\n",
       "    .dataframe thead th {\n",
       "        text-align: right;\n",
       "    }\n",
       "</style>\n",
       "<table border=\"1\" class=\"dataframe\">\n",
       "  <thead>\n",
       "    <tr style=\"text-align: right;\">\n",
       "      <th></th>\n",
       "      <th>month</th>\n",
       "      <th>day</th>\n",
       "      <th>attend</th>\n",
       "      <th>day_of_week</th>\n",
       "      <th>opponent</th>\n",
       "      <th>temp</th>\n",
       "      <th>skies</th>\n",
       "      <th>day_night</th>\n",
       "      <th>cap</th>\n",
       "      <th>shirt</th>\n",
       "      <th>fireworks</th>\n",
       "      <th>bobblehead</th>\n",
       "    </tr>\n",
       "  </thead>\n",
       "  <tbody>\n",
       "    <tr>\n",
       "      <th>0</th>\n",
       "      <td>APR</td>\n",
       "      <td>10</td>\n",
       "      <td>56000</td>\n",
       "      <td>Tuesday</td>\n",
       "      <td>Pirates</td>\n",
       "      <td>67</td>\n",
       "      <td>Clear</td>\n",
       "      <td>Day</td>\n",
       "      <td>NO</td>\n",
       "      <td>NO</td>\n",
       "      <td>NO</td>\n",
       "      <td>NO</td>\n",
       "    </tr>\n",
       "    <tr>\n",
       "      <th>1</th>\n",
       "      <td>APR</td>\n",
       "      <td>11</td>\n",
       "      <td>29729</td>\n",
       "      <td>Wednesday</td>\n",
       "      <td>Pirates</td>\n",
       "      <td>58</td>\n",
       "      <td>Cloudy</td>\n",
       "      <td>Night</td>\n",
       "      <td>NO</td>\n",
       "      <td>NO</td>\n",
       "      <td>NO</td>\n",
       "      <td>NO</td>\n",
       "    </tr>\n",
       "    <tr>\n",
       "      <th>2</th>\n",
       "      <td>APR</td>\n",
       "      <td>12</td>\n",
       "      <td>28328</td>\n",
       "      <td>Thursday</td>\n",
       "      <td>Pirates</td>\n",
       "      <td>57</td>\n",
       "      <td>Cloudy</td>\n",
       "      <td>Night</td>\n",
       "      <td>NO</td>\n",
       "      <td>NO</td>\n",
       "      <td>NO</td>\n",
       "      <td>NO</td>\n",
       "    </tr>\n",
       "    <tr>\n",
       "      <th>3</th>\n",
       "      <td>APR</td>\n",
       "      <td>13</td>\n",
       "      <td>31601</td>\n",
       "      <td>Friday</td>\n",
       "      <td>Padres</td>\n",
       "      <td>54</td>\n",
       "      <td>Cloudy</td>\n",
       "      <td>Night</td>\n",
       "      <td>NO</td>\n",
       "      <td>NO</td>\n",
       "      <td>YES</td>\n",
       "      <td>NO</td>\n",
       "    </tr>\n",
       "    <tr>\n",
       "      <th>4</th>\n",
       "      <td>APR</td>\n",
       "      <td>14</td>\n",
       "      <td>46549</td>\n",
       "      <td>Saturday</td>\n",
       "      <td>Padres</td>\n",
       "      <td>57</td>\n",
       "      <td>Cloudy</td>\n",
       "      <td>Night</td>\n",
       "      <td>NO</td>\n",
       "      <td>NO</td>\n",
       "      <td>NO</td>\n",
       "      <td>NO</td>\n",
       "    </tr>\n",
       "  </tbody>\n",
       "</table>\n",
       "</div>"
      ],
      "text/plain": [
       "  month  day  attend day_of_week opponent  temp   skies day_night cap shirt  \\\n",
       "0   APR   10   56000     Tuesday  Pirates    67  Clear        Day  NO    NO   \n",
       "1   APR   11   29729   Wednesday  Pirates    58  Cloudy     Night  NO    NO   \n",
       "2   APR   12   28328    Thursday  Pirates    57  Cloudy     Night  NO    NO   \n",
       "3   APR   13   31601      Friday   Padres    54  Cloudy     Night  NO    NO   \n",
       "4   APR   14   46549    Saturday   Padres    57  Cloudy     Night  NO    NO   \n",
       "\n",
       "  fireworks bobblehead  \n",
       "0        NO         NO  \n",
       "1        NO         NO  \n",
       "2        NO         NO  \n",
       "3       YES         NO  \n",
       "4        NO         NO  "
      ]
     },
     "execution_count": 4,
     "metadata": {},
     "output_type": "execute_result"
    }
   ],
   "source": [
    "df_Dodgers.head()"
   ]
  },
  {
   "cell_type": "code",
   "execution_count": 5,
   "metadata": {},
   "outputs": [],
   "source": [
    "# Takes binary categories and returns 0 or 1\n",
    "def binning_cats(word, zero='no', one='yes'):\n",
    "    if word.strip().lower()==zero:\n",
    "        return(0)\n",
    "    elif word.strip().lower()==one:\n",
    "        return(1)"
   ]
  },
  {
   "cell_type": "code",
   "execution_count": 6,
   "metadata": {},
   "outputs": [],
   "source": [
    "# These are the variables and their outcomes that need to be converted\n",
    "bins = {'skies':['cloudy','clear'],\n",
    "        'day_night':['day','night'],\n",
    "        'cap':['no','yes'],\n",
    "        'shirt':['no','yes'],\n",
    "       'fireworks':['no','yes'],\n",
    "       'bobblehead':['no','yes']}"
   ]
  },
  {
   "cell_type": "code",
   "execution_count": 7,
   "metadata": {},
   "outputs": [],
   "source": [
    "# Here we convert the above columns to binary\n",
    "for column in bins.keys():\n",
    "    df_Dodgers[column+'_bin']=df_Dodgers[column].apply(binning_cats,args=(bins[column][0],bins[column][1]))"
   ]
  },
  {
   "cell_type": "code",
   "execution_count": 8,
   "metadata": {},
   "outputs": [
    {
     "data": {
      "text/html": [
       "<div>\n",
       "<style scoped>\n",
       "    .dataframe tbody tr th:only-of-type {\n",
       "        vertical-align: middle;\n",
       "    }\n",
       "\n",
       "    .dataframe tbody tr th {\n",
       "        vertical-align: top;\n",
       "    }\n",
       "\n",
       "    .dataframe thead th {\n",
       "        text-align: right;\n",
       "    }\n",
       "</style>\n",
       "<table border=\"1\" class=\"dataframe\">\n",
       "  <thead>\n",
       "    <tr style=\"text-align: right;\">\n",
       "      <th></th>\n",
       "      <th>month</th>\n",
       "      <th>day</th>\n",
       "      <th>attend</th>\n",
       "      <th>day_of_week</th>\n",
       "      <th>opponent</th>\n",
       "      <th>temp</th>\n",
       "      <th>skies</th>\n",
       "      <th>day_night</th>\n",
       "      <th>cap</th>\n",
       "      <th>shirt</th>\n",
       "      <th>fireworks</th>\n",
       "      <th>bobblehead</th>\n",
       "      <th>skies_bin</th>\n",
       "      <th>day_night_bin</th>\n",
       "      <th>cap_bin</th>\n",
       "      <th>shirt_bin</th>\n",
       "      <th>fireworks_bin</th>\n",
       "      <th>bobblehead_bin</th>\n",
       "    </tr>\n",
       "  </thead>\n",
       "  <tbody>\n",
       "    <tr>\n",
       "      <th>0</th>\n",
       "      <td>APR</td>\n",
       "      <td>10</td>\n",
       "      <td>56000</td>\n",
       "      <td>Tuesday</td>\n",
       "      <td>Pirates</td>\n",
       "      <td>67</td>\n",
       "      <td>Clear</td>\n",
       "      <td>Day</td>\n",
       "      <td>NO</td>\n",
       "      <td>NO</td>\n",
       "      <td>NO</td>\n",
       "      <td>NO</td>\n",
       "      <td>1</td>\n",
       "      <td>0</td>\n",
       "      <td>0</td>\n",
       "      <td>0</td>\n",
       "      <td>0</td>\n",
       "      <td>0</td>\n",
       "    </tr>\n",
       "    <tr>\n",
       "      <th>1</th>\n",
       "      <td>APR</td>\n",
       "      <td>11</td>\n",
       "      <td>29729</td>\n",
       "      <td>Wednesday</td>\n",
       "      <td>Pirates</td>\n",
       "      <td>58</td>\n",
       "      <td>Cloudy</td>\n",
       "      <td>Night</td>\n",
       "      <td>NO</td>\n",
       "      <td>NO</td>\n",
       "      <td>NO</td>\n",
       "      <td>NO</td>\n",
       "      <td>0</td>\n",
       "      <td>1</td>\n",
       "      <td>0</td>\n",
       "      <td>0</td>\n",
       "      <td>0</td>\n",
       "      <td>0</td>\n",
       "    </tr>\n",
       "    <tr>\n",
       "      <th>2</th>\n",
       "      <td>APR</td>\n",
       "      <td>12</td>\n",
       "      <td>28328</td>\n",
       "      <td>Thursday</td>\n",
       "      <td>Pirates</td>\n",
       "      <td>57</td>\n",
       "      <td>Cloudy</td>\n",
       "      <td>Night</td>\n",
       "      <td>NO</td>\n",
       "      <td>NO</td>\n",
       "      <td>NO</td>\n",
       "      <td>NO</td>\n",
       "      <td>0</td>\n",
       "      <td>1</td>\n",
       "      <td>0</td>\n",
       "      <td>0</td>\n",
       "      <td>0</td>\n",
       "      <td>0</td>\n",
       "    </tr>\n",
       "    <tr>\n",
       "      <th>3</th>\n",
       "      <td>APR</td>\n",
       "      <td>13</td>\n",
       "      <td>31601</td>\n",
       "      <td>Friday</td>\n",
       "      <td>Padres</td>\n",
       "      <td>54</td>\n",
       "      <td>Cloudy</td>\n",
       "      <td>Night</td>\n",
       "      <td>NO</td>\n",
       "      <td>NO</td>\n",
       "      <td>YES</td>\n",
       "      <td>NO</td>\n",
       "      <td>0</td>\n",
       "      <td>1</td>\n",
       "      <td>0</td>\n",
       "      <td>0</td>\n",
       "      <td>1</td>\n",
       "      <td>0</td>\n",
       "    </tr>\n",
       "    <tr>\n",
       "      <th>4</th>\n",
       "      <td>APR</td>\n",
       "      <td>14</td>\n",
       "      <td>46549</td>\n",
       "      <td>Saturday</td>\n",
       "      <td>Padres</td>\n",
       "      <td>57</td>\n",
       "      <td>Cloudy</td>\n",
       "      <td>Night</td>\n",
       "      <td>NO</td>\n",
       "      <td>NO</td>\n",
       "      <td>NO</td>\n",
       "      <td>NO</td>\n",
       "      <td>0</td>\n",
       "      <td>1</td>\n",
       "      <td>0</td>\n",
       "      <td>0</td>\n",
       "      <td>0</td>\n",
       "      <td>0</td>\n",
       "    </tr>\n",
       "  </tbody>\n",
       "</table>\n",
       "</div>"
      ],
      "text/plain": [
       "  month  day  attend day_of_week opponent  temp   skies day_night cap shirt  \\\n",
       "0   APR   10   56000     Tuesday  Pirates    67  Clear        Day  NO    NO   \n",
       "1   APR   11   29729   Wednesday  Pirates    58  Cloudy     Night  NO    NO   \n",
       "2   APR   12   28328    Thursday  Pirates    57  Cloudy     Night  NO    NO   \n",
       "3   APR   13   31601      Friday   Padres    54  Cloudy     Night  NO    NO   \n",
       "4   APR   14   46549    Saturday   Padres    57  Cloudy     Night  NO    NO   \n",
       "\n",
       "  fireworks bobblehead  skies_bin  day_night_bin  cap_bin  shirt_bin  \\\n",
       "0        NO         NO          1              0        0          0   \n",
       "1        NO         NO          0              1        0          0   \n",
       "2        NO         NO          0              1        0          0   \n",
       "3       YES         NO          0              1        0          0   \n",
       "4        NO         NO          0              1        0          0   \n",
       "\n",
       "   fireworks_bin  bobblehead_bin  \n",
       "0              0               0  \n",
       "1              0               0  \n",
       "2              0               0  \n",
       "3              1               0  \n",
       "4              0               0  "
      ]
     },
     "execution_count": 8,
     "metadata": {},
     "output_type": "execute_result"
    }
   ],
   "source": [
    "df_Dodgers.head()"
   ]
  },
  {
   "cell_type": "code",
   "execution_count": 9,
   "metadata": {},
   "outputs": [
    {
     "data": {
      "text/html": [
       "<div>\n",
       "<style scoped>\n",
       "    .dataframe tbody tr th:only-of-type {\n",
       "        vertical-align: middle;\n",
       "    }\n",
       "\n",
       "    .dataframe tbody tr th {\n",
       "        vertical-align: top;\n",
       "    }\n",
       "\n",
       "    .dataframe thead th {\n",
       "        text-align: right;\n",
       "    }\n",
       "</style>\n",
       "<table border=\"1\" class=\"dataframe\">\n",
       "  <thead>\n",
       "    <tr style=\"text-align: right;\">\n",
       "      <th></th>\n",
       "      <th>day</th>\n",
       "      <th>attend</th>\n",
       "      <th>temp</th>\n",
       "      <th>skies_bin</th>\n",
       "      <th>day_night_bin</th>\n",
       "      <th>cap_bin</th>\n",
       "      <th>shirt_bin</th>\n",
       "      <th>fireworks_bin</th>\n",
       "      <th>bobblehead_bin</th>\n",
       "    </tr>\n",
       "  </thead>\n",
       "  <tbody>\n",
       "    <tr>\n",
       "      <th>day</th>\n",
       "      <td>1.000000</td>\n",
       "      <td>0.027093</td>\n",
       "      <td>-0.127612</td>\n",
       "      <td>0.038396</td>\n",
       "      <td>-0.039828</td>\n",
       "      <td>-0.202274</td>\n",
       "      <td>-0.030182</td>\n",
       "      <td>0.099528</td>\n",
       "      <td>0.145363</td>\n",
       "    </tr>\n",
       "    <tr>\n",
       "      <th>attend</th>\n",
       "      <td>0.027093</td>\n",
       "      <td>1.000000</td>\n",
       "      <td>0.098951</td>\n",
       "      <td>0.150963</td>\n",
       "      <td>-0.043544</td>\n",
       "      <td>-0.055002</td>\n",
       "      <td>0.133269</td>\n",
       "      <td>0.002094</td>\n",
       "      <td>0.581895</td>\n",
       "    </tr>\n",
       "    <tr>\n",
       "      <th>temp</th>\n",
       "      <td>-0.127612</td>\n",
       "      <td>0.098951</td>\n",
       "      <td>1.000000</td>\n",
       "      <td>0.316584</td>\n",
       "      <td>-0.272141</td>\n",
       "      <td>0.064521</td>\n",
       "      <td>0.004394</td>\n",
       "      <td>-0.189899</td>\n",
       "      <td>0.049573</td>\n",
       "    </tr>\n",
       "    <tr>\n",
       "      <th>skies_bin</th>\n",
       "      <td>0.038396</td>\n",
       "      <td>0.150963</td>\n",
       "      <td>0.316584</td>\n",
       "      <td>1.000000</td>\n",
       "      <td>-0.188903</td>\n",
       "      <td>-0.099671</td>\n",
       "      <td>0.108566</td>\n",
       "      <td>0.021880</td>\n",
       "      <td>0.049349</td>\n",
       "    </tr>\n",
       "    <tr>\n",
       "      <th>day_night_bin</th>\n",
       "      <td>-0.039828</td>\n",
       "      <td>-0.043544</td>\n",
       "      <td>-0.272141</td>\n",
       "      <td>-0.188903</td>\n",
       "      <td>1.000000</td>\n",
       "      <td>-0.128951</td>\n",
       "      <td>-0.074796</td>\n",
       "      <td>0.217922</td>\n",
       "      <td>0.188982</td>\n",
       "    </tr>\n",
       "    <tr>\n",
       "      <th>cap_bin</th>\n",
       "      <td>-0.202274</td>\n",
       "      <td>-0.055002</td>\n",
       "      <td>0.064521</td>\n",
       "      <td>-0.099671</td>\n",
       "      <td>-0.128951</td>\n",
       "      <td>1.000000</td>\n",
       "      <td>-0.031204</td>\n",
       "      <td>-0.072732</td>\n",
       "      <td>-0.063074</td>\n",
       "    </tr>\n",
       "    <tr>\n",
       "      <th>shirt_bin</th>\n",
       "      <td>-0.030182</td>\n",
       "      <td>0.133269</td>\n",
       "      <td>0.004394</td>\n",
       "      <td>0.108566</td>\n",
       "      <td>-0.074796</td>\n",
       "      <td>-0.031204</td>\n",
       "      <td>1.000000</td>\n",
       "      <td>-0.089648</td>\n",
       "      <td>-0.077743</td>\n",
       "    </tr>\n",
       "    <tr>\n",
       "      <th>fireworks_bin</th>\n",
       "      <td>0.099528</td>\n",
       "      <td>0.002094</td>\n",
       "      <td>-0.189899</td>\n",
       "      <td>0.021880</td>\n",
       "      <td>0.217922</td>\n",
       "      <td>-0.072732</td>\n",
       "      <td>-0.089648</td>\n",
       "      <td>1.000000</td>\n",
       "      <td>-0.181207</td>\n",
       "    </tr>\n",
       "    <tr>\n",
       "      <th>bobblehead_bin</th>\n",
       "      <td>0.145363</td>\n",
       "      <td>0.581895</td>\n",
       "      <td>0.049573</td>\n",
       "      <td>0.049349</td>\n",
       "      <td>0.188982</td>\n",
       "      <td>-0.063074</td>\n",
       "      <td>-0.077743</td>\n",
       "      <td>-0.181207</td>\n",
       "      <td>1.000000</td>\n",
       "    </tr>\n",
       "  </tbody>\n",
       "</table>\n",
       "</div>"
      ],
      "text/plain": [
       "                     day    attend      temp  skies_bin  day_night_bin  \\\n",
       "day             1.000000  0.027093 -0.127612   0.038396      -0.039828   \n",
       "attend          0.027093  1.000000  0.098951   0.150963      -0.043544   \n",
       "temp           -0.127612  0.098951  1.000000   0.316584      -0.272141   \n",
       "skies_bin       0.038396  0.150963  0.316584   1.000000      -0.188903   \n",
       "day_night_bin  -0.039828 -0.043544 -0.272141  -0.188903       1.000000   \n",
       "cap_bin        -0.202274 -0.055002  0.064521  -0.099671      -0.128951   \n",
       "shirt_bin      -0.030182  0.133269  0.004394   0.108566      -0.074796   \n",
       "fireworks_bin   0.099528  0.002094 -0.189899   0.021880       0.217922   \n",
       "bobblehead_bin  0.145363  0.581895  0.049573   0.049349       0.188982   \n",
       "\n",
       "                 cap_bin  shirt_bin  fireworks_bin  bobblehead_bin  \n",
       "day            -0.202274  -0.030182       0.099528        0.145363  \n",
       "attend         -0.055002   0.133269       0.002094        0.581895  \n",
       "temp            0.064521   0.004394      -0.189899        0.049573  \n",
       "skies_bin      -0.099671   0.108566       0.021880        0.049349  \n",
       "day_night_bin  -0.128951  -0.074796       0.217922        0.188982  \n",
       "cap_bin         1.000000  -0.031204      -0.072732       -0.063074  \n",
       "shirt_bin      -0.031204   1.000000      -0.089648       -0.077743  \n",
       "fireworks_bin  -0.072732  -0.089648       1.000000       -0.181207  \n",
       "bobblehead_bin -0.063074  -0.077743      -0.181207        1.000000  "
      ]
     },
     "execution_count": 9,
     "metadata": {},
     "output_type": "execute_result"
    }
   ],
   "source": [
    "# Here we check the correlations\n",
    "df_Dodgers.corr()"
   ]
  },
  {
   "cell_type": "code",
   "execution_count": 10,
   "metadata": {},
   "outputs": [
    {
     "name": "stderr",
     "output_type": "stream",
     "text": [
      "C:\\Users\\harol\\anaconda3\\lib\\site-packages\\seaborn\\_decorators.py:36: FutureWarning: Pass the following variables as keyword args: x, y. From version 0.12, the only valid positional argument will be `data`, and passing other arguments without an explicit keyword will result in an error or misinterpretation.\n",
      "  warnings.warn(\n"
     ]
    },
    {
     "data": {
      "image/png": "[encoded data removed]",
      "text/plain": [
       "<Figure size 432x288 with 1 Axes>"
      ]
     },
     "metadata": {
      "needs_background": "light"
     },
     "output_type": "display_data"
    }
   ],
   "source": [
    "# Here we draft a scatterplot to see if any relationship between attendance and temperature\n",
    "sns.regplot(df_Dodgers['temp'],df_Dodgers['attend'])\n",
    "slope,intercept,r_value,p_value,std_err = scipy.stats.linregress(df_Dodgers['temp'],df_Dodgers['attend'])"
   ]
  },
  {
   "cell_type": "code",
   "execution_count": 14,
   "metadata": {},
   "outputs": [
    {
     "data": {
      "image/png": "[encoded data removed]",
      "text/plain": [
       "<Figure size 432x288 with 1 Axes>"
      ]
     },
     "metadata": {
      "needs_background": "light"
     },
     "output_type": "display_data"
    }
   ],
   "source": [
    "# Bar charts showing average attendance by day of the week\n",
    "days = {'M':'Monday','T':'Tuesday','W':'Wednesday','R':'Thursday','F':'Friday','S':'Saturday','U':'Sunday'}\n",
    "day_attendance = []\n",
    "for day in days.keys():\n",
    "    day_attendance.append(df_Dodgers[df_Dodgers['day_of_week']==days[day]].attend.mean())\n",
    "\n",
    "fig=plt.figure()\n",
    "ax=fig.add_axes([0,0,1,1])\n",
    "x=days.keys()\n",
    "ax.bar(x,day_attendance)\n",
    "ax.set_xlabel('day of week')\n",
    "ax.set_ylabel('average attendance')\n",
    "plt.show()"
   ]
  },
  {
   "cell_type": "code",
   "execution_count": 17,
   "metadata": {},
   "outputs": [
    {
     "data": {
      "image/png": "[encoded data removed]",
      "text/plain": [
       "<Figure size 720x2160 with 4 Axes>"
      ]
     },
     "metadata": {
      "needs_background": "light"
     },
     "output_type": "display_data"
    }
   ],
   "source": [
    "# This shows the distribution for each perk\n",
    "fig, axs = plt.subplots(4,figsize=(10,30))\n",
    "plot_coords = [(0,0),(0,1),(1,0),(1,1)]\n",
    "perks = ['cap','shirt','fireworks','bobblehead']\n",
    "count = 0\n",
    "for perk in perks:\n",
    "    ys=[]\n",
    "    for day in days.keys():\n",
    "        df_ = df_Dodgers[df_Dodgers['day_of_week']==days[day]]\n",
    "        ys.append(len(df_[df_[perk]==bins[perk][1].upper()]))\n",
    "    axs[count].set_title(f'perk: {perk}')\n",
    "    axs[count].bar(days.keys(),ys)\n",
    "    axs[count].set_xlabel('day of week')\n",
    "    axs[count].set_ylabel('number of games at which perk given')\n",
    "    axs[count].set_ylim(0,15)\n",
    "    count+=1"
   ]
  },
  {
   "cell_type": "code",
   "execution_count": 18,
   "metadata": {},
   "outputs": [
    {
     "data": {
      "text/plain": [
       "array(['APR', 'MAY', 'JUN', 'JUL', 'AUG', 'SEP', 'OCT'], dtype=object)"
      ]
     },
     "execution_count": 18,
     "metadata": {},
     "output_type": "execute_result"
    }
   ],
   "source": [
    "# Checks to see if any null or duplicate values\n",
    "df_Dodgers.month.unique()"
   ]
  },
  {
   "cell_type": "code",
   "execution_count": 20,
   "metadata": {},
   "outputs": [
    {
     "name": "stdout",
     "output_type": "stream",
     "text": [
      "Month marginal tickets/deg probability\n",
      "----- -------------------- -----------\n",
      " APR             1170           0.022\n",
      " MAY              337           0.412\n",
      " JUN               55           0.902\n",
      " JUL              552           0.487\n",
      " AUG             -105           0.826\n",
      " SEP             -296           0.25\n",
      " OCT             -756           0.796\n"
     ]
    }
   ],
   "source": [
    "# More temperature and attendance relationship research\n",
    "months = ['APR','MAY','JUN','JUL','AUG','SEP','OCT']\n",
    "print('Month marginal tickets/deg probability')\n",
    "print('----- -------------------- -----------')\n",
    "for month in months:\n",
    "    x = df_Dodgers[df_Dodgers['month'] == month]['temp']\n",
    "    y = df_Dodgers[df_Dodgers['month'] == month]['attend']\n",
    "    slope, intercept, r_value, p_value, std_err = scipy.stats.linregress(x, y)\n",
    "    print(f'{month:>4} {round(slope):16} {\" \"*10}{round(p_value,3)}')"
   ]
  },
  {
   "cell_type": "code",
   "execution_count": 21,
   "metadata": {},
   "outputs": [
    {
     "data": {
      "image/png": "[encoded data removed]",
      "text/plain": [
       "<Figure size 432x288 with 1 Axes>"
      ]
     },
     "metadata": {
      "needs_background": "light"
     },
     "output_type": "display_data"
    }
   ],
   "source": [
    "# This plots the average temperature on game nights by month for the hotter months\n",
    "fig = plt.figure()\n",
    "ax = fig.add_axes([0,0,1,1])\n",
    "x = months[4:]\n",
    "temps = [df_Dodgers[df_Dodgers['month']==month].temp.mean() for month in x]\n",
    "ax.bar(x,temps)\n",
    "ax.set_xlabel('month')\n",
    "ax.set_ylabel('average gameday temp')\n",
    "# 0 isn't particularly meaningful for degrees F, so I set ymin to LA's absolute 0.\n",
    "plt.ylim(50,90)\n",
    "plt.show()"
   ]
  },
  {
   "cell_type": "code",
   "execution_count": 22,
   "metadata": {},
   "outputs": [
    {
     "data": {
      "text/plain": [
       "\"\\nIn trying to find the best day to do marketing campaign at Dodger's baseball games I based my analysis on picking the days with\\nthe most attendance. There are several different ways to approach marketing campaigns but in this analysis I decided to go off\\nof quantity of attendees rather than quality. For this I decided to find the best way to numerically assess what variables held\\nthe best relationship for predicting high attendance numbers. For this I needed to install and load a few libraries like ggplot.\\nI then found the proper folder to load the dataset to and checked the first six rows to see the types of variables involved.\\nThe attendance was the variable I chose to use to determine the number of spectators at a game. At first I decided to test the\\nrelationship between the temperature and the attendance. This proved fruitless. Just by looking at the scatterplot I saw no\\nrelationship. Then by luck I did a boxplot to the attendance based on the days of the week and found that Tuesdays had the\\ngreatest means and range of attendance. Justto make sure I wasn't missing anything else, I ran a correlation analysis on the\\nopposing team, on the day or night game data, and on the day of the week. Tuesday proved to show the greatest correlation.\\n\""
      ]
     },
     "execution_count": 22,
     "metadata": {},
     "output_type": "execute_result"
    }
   ],
   "source": [
    "\"\"\"\n",
    "Attendance during the summer months actually declined instead of increased which leads me to believe that the heat is more of a\n",
    "factor in determining attendance than the fact that school is out for summer break. Based on all of the data, I inferred that\n",
    "giving bobbleheads held the most significance and did the most to increase attendance. Also, I did a boxplot to the attendance\n",
    "based on the days of the week and found that Tuesdays had the greatest means and range of attendance. Just to make sure I wasn't\n",
    "missing anything else, I ran a correlation analysis on the opposing team, on the day or night game data, and on the day of the\n",
    "week. Tuesday proved to show the greatest correlation.\n",
    "Based on this analysis, I would recommend giving out more bobbleheads. Reserve the giving of these objects for periods when\n",
    "attendance is typically lower like cooler or hotter days. Also, I would recommend installing misters, air movers, and temporary\n",
    "shade structures\n",
    "\"\"\""
   ]
  },
  {
   "cell_type": "code",
   "execution_count": null,
   "metadata": {},
   "outputs": [],
   "source": []
  }
 ],
 "metadata": {
  "kernelspec": {
   "display_name": "Python 3",
   "language": "python",
   "name": "python3"
  },
  "language_info": {
   "codemirror_mode": {
    "name": "ipython",
    "version": 3
   },
   "file_extension": ".py",
   "mimetype": "text/x-python",
   "name": "python",
   "nbconvert_exporter": "python",
   "pygments_lexer": "ipython3",
   "version": "3.8.5"
  }
 },
 "nbformat": 4,
 "nbformat_minor": 4
}
